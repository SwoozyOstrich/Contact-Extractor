{
 "cells": [
  {
   "cell_type": "code",
   "execution_count": 1,
   "metadata": {},
   "outputs": [],
   "source": [
    "import pandas as pd"
   ]
  },
  {
   "cell_type": "code",
   "execution_count": 2,
   "metadata": {},
   "outputs": [],
   "source": [
    "burlingame_accounts = pd.read_csv('burlingame.csv')\n",
    "#burlingame_accounts.head()\n",
    "\n",
    "# combine columns Business Name and Address into one column\n",
    "#burlingame_accounts['Business Name'] = burlingame_accounts['Business Name'].astype(str) + ' ' + burlingame_accounts['Address'].astype(str)\n",
    "# delete Address column\n",
    "del burlingame_accounts['Address']\n",
    "#burlingame_accounts.head()\n",
    "\n",
    "#rename business name column to search_term for clarity\n",
    "burlingame_accounts.rename(columns={'Business Name': 'searchterm'}, inplace=True)\n",
    "\n",
    "#coverting searchterm column to list\n",
    "searchterms = burlingame_accounts['searchterm'].tolist()\n",
    "\n",
    "#save result to new csv file\n",
    "burlingame_accounts.to_csv('burlingame_accounts.csv', index=False)"
   ]
  }
 ],
 "metadata": {
  "kernelspec": {
   "display_name": "Python 3.10.6 64-bit (microsoft store)",
   "language": "python",
   "name": "python3"
  },
  "language_info": {
   "codemirror_mode": {
    "name": "ipython",
    "version": 3
   },
   "file_extension": ".py",
   "mimetype": "text/x-python",
   "name": "python",
   "nbconvert_exporter": "python",
   "pygments_lexer": "ipython3",
   "version": "3.10.6"
  },
  "orig_nbformat": 4,
  "vscode": {
   "interpreter": {
    "hash": "7a9c16435e8e18b963d2b2ed856045e83ee065cb480e373d53542704e1e3736c"
   }
  }
 },
 "nbformat": 4,
 "nbformat_minor": 2
}
