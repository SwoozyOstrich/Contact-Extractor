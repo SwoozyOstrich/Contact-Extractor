{
 "cells": [
  {
   "cell_type": "code",
   "execution_count": 8,
   "metadata": {},
   "outputs": [],
   "source": [
    "import logging\n",
    "import os\n",
    "import pandas as pd\n",
    "import re\n",
    "import scrapy\n",
    "from scrapy.crawler import CrawlerProcess\n",
    "from scrapy.linkextractors.lxmlhtml import LxmlLinkExtractor\n",
    "from googlesearch import search\n",
    "logging.getLogger('scrapy').propagate = False"
   ]
  },
  {
   "cell_type": "code",
   "execution_count": 9,
   "metadata": {},
   "outputs": [],
   "source": [
    "def get_urls(tag, n, language):\n",
    "    urls = [url for url in search(tag, num_results=n, lang=language)][:n]\n",
    "    return urls"
   ]
  },
  {
   "cell_type": "code",
   "execution_count": 10,
   "metadata": {},
   "outputs": [],
   "source": [
    "#get_urls('movie rating', 5 , 'en')"
   ]
  },
  {
   "cell_type": "code",
   "execution_count": 11,
   "metadata": {},
   "outputs": [],
   "source": [
    "class MailSpider(scrapy.Spider):\n",
    "    \n",
    "    name = 'email'\n",
    "    \n",
    "    def parse(self, response):\n",
    "        \n",
    "        links = LxmlLinkExtractor(allow=()).extract_links(response)\n",
    "        links = [str(link.url) for link in links]\n",
    "        links.append(str(response.url))\n",
    "        \n",
    "        for link in links:\n",
    "            yield scrapy.Request(url=link, callback=self.parse_link) \n",
    "            \n",
    "    def parse_link(self, response):\n",
    "        \n",
    "        for word in self.reject:\n",
    "            if word in str(response.url):\n",
    "                return\n",
    "            \n",
    "        html_text = str(response.text)\n",
    "        mail_list = re.findall('\\w+@\\w+\\.{1}\\w+', html_text)\n",
    "\n",
    "        dic = {'email': mail_list, 'link': str(response.url)}\n",
    "        df = pd.DataFrame(dic)\n",
    "        \n",
    "        df.to_csv(self.path, mode='a', header=False)\n",
    "        df.to_csv(self.path, mode='a', header=False)"
   ]
  },
  {
   "cell_type": "code",
   "execution_count": 12,
   "metadata": {},
   "outputs": [],
   "source": [
    "def ask_user(question):\n",
    "    response = input(question + ' y/n' + '\\n')\n",
    "    if response == 'y':\n",
    "        return True\n",
    "    else:\n",
    "        return False\n",
    "def create_file(path):\n",
    "    response = False\n",
    "    if os.path.exists(path):\n",
    "        response = ask_user('File already exists, replace?')\n",
    "        if response == False: return \n",
    "    \n",
    "    with open(path, 'wb') as file: \n",
    "        file.close()"
   ]
  },
  {
   "cell_type": "code",
   "execution_count": 13,
   "metadata": {},
   "outputs": [],
   "source": [
    "def get_info(tag, n, language, path, reject=[]):\n",
    "    \n",
    "    create_file(path)\n",
    "    df = pd.DataFrame(columns=['email', 'link'], index=[0])\n",
    "    df.to_csv(path, mode='w', header=True)\n",
    "    \n",
    "    print('Collecting Google urls...')\n",
    "    google_urls = get_urls(tag, n, language)\n",
    "    \n",
    "    print('Searching for emails...')\n",
    "    process = CrawlerProcess({'USER_AGENT': 'Mozilla/5.0'})\n",
    "    process.crawl(MailSpider, start_urls=google_urls, path=path, reject=reject)\n",
    "    process.start()\n",
    "    \n",
    "    print('Cleaning emails...')\n",
    "    df = pd.read_csv(path, index_col=0)\n",
    "    df.columns = ['email', 'link']\n",
    "    df = df.drop_duplicates(subset='email')\n",
    "    df = df.reset_index(drop=True)\n",
    "    df.to_csv(path, mode='w', header=True)\n",
    "    \n",
    "    return df"
   ]
  },
  {
   "cell_type": "code",
   "execution_count": 14,
   "metadata": {},
   "outputs": [
    {
     "name": "stdout",
     "output_type": "stream",
     "text": [
      "Collecting Google urls...\n"
     ]
    },
    {
     "ename": "HTTPError",
     "evalue": "429 Client Error: Too Many Requests for url: https://www.google.com/sorry/index?continue=https://www.google.com/search%3Fq%3Dmastering%252Bstudio%252Blondon%26num%3D150%26hl%3Dpt%26start%3D152&hl=pt&q=EgRDtLUeGN_p-ZsGIjDbc1HPbCO-g5ty6diTETG8ravcuXNe1bXdN0T03VQos_b__Bb1xEkaTx90sjj60PAyAXI",
     "output_type": "error",
     "traceback": [
      "\u001b[1;31m---------------------------------------------------------------------------\u001b[0m",
      "\u001b[1;31mHTTPError\u001b[0m                                 Traceback (most recent call last)",
      "Cell \u001b[1;32mIn [14], line 2\u001b[0m\n\u001b[0;32m      1\u001b[0m bad_words \u001b[39m=\u001b[39m [\u001b[39m'\u001b[39m\u001b[39mfacebook\u001b[39m\u001b[39m'\u001b[39m, \u001b[39m'\u001b[39m\u001b[39minstagram\u001b[39m\u001b[39m'\u001b[39m, \u001b[39m'\u001b[39m\u001b[39myoutube\u001b[39m\u001b[39m'\u001b[39m, \u001b[39m'\u001b[39m\u001b[39mtwitter\u001b[39m\u001b[39m'\u001b[39m, \u001b[39m'\u001b[39m\u001b[39mwiki\u001b[39m\u001b[39m'\u001b[39m]\n\u001b[1;32m----> 2\u001b[0m df \u001b[39m=\u001b[39m get_info(\u001b[39m'\u001b[39;49m\u001b[39mmastering studio london\u001b[39;49m\u001b[39m'\u001b[39;49m, \u001b[39m300\u001b[39;49m, \u001b[39m'\u001b[39;49m\u001b[39mpt\u001b[39;49m\u001b[39m'\u001b[39;49m, \u001b[39m'\u001b[39;49m\u001b[39mstudios.csv\u001b[39;49m\u001b[39m'\u001b[39;49m, reject\u001b[39m=\u001b[39;49mbad_words)\n",
      "Cell \u001b[1;32mIn [13], line 8\u001b[0m, in \u001b[0;36mget_info\u001b[1;34m(tag, n, language, path, reject)\u001b[0m\n\u001b[0;32m      5\u001b[0m df\u001b[39m.\u001b[39mto_csv(path, mode\u001b[39m=\u001b[39m\u001b[39m'\u001b[39m\u001b[39mw\u001b[39m\u001b[39m'\u001b[39m, header\u001b[39m=\u001b[39m\u001b[39mTrue\u001b[39;00m)\n\u001b[0;32m      7\u001b[0m \u001b[39mprint\u001b[39m(\u001b[39m'\u001b[39m\u001b[39mCollecting Google urls...\u001b[39m\u001b[39m'\u001b[39m)\n\u001b[1;32m----> 8\u001b[0m google_urls \u001b[39m=\u001b[39m get_urls(tag, n, language)\n\u001b[0;32m     10\u001b[0m \u001b[39mprint\u001b[39m(\u001b[39m'\u001b[39m\u001b[39mSearching for emails...\u001b[39m\u001b[39m'\u001b[39m)\n\u001b[0;32m     11\u001b[0m process \u001b[39m=\u001b[39m CrawlerProcess({\u001b[39m'\u001b[39m\u001b[39mUSER_AGENT\u001b[39m\u001b[39m'\u001b[39m: \u001b[39m'\u001b[39m\u001b[39mMozilla/5.0\u001b[39m\u001b[39m'\u001b[39m})\n",
      "Cell \u001b[1;32mIn [9], line 2\u001b[0m, in \u001b[0;36mget_urls\u001b[1;34m(tag, n, language)\u001b[0m\n\u001b[0;32m      1\u001b[0m \u001b[39mdef\u001b[39;00m \u001b[39mget_urls\u001b[39m(tag, n, language):\n\u001b[1;32m----> 2\u001b[0m     urls \u001b[39m=\u001b[39m [url \u001b[39mfor\u001b[39;00m url \u001b[39min\u001b[39;00m search(tag, num_results\u001b[39m=\u001b[39mn, lang\u001b[39m=\u001b[39mlanguage)][:n]\n\u001b[0;32m      3\u001b[0m     \u001b[39mreturn\u001b[39;00m urls\n",
      "Cell \u001b[1;32mIn [9], line 2\u001b[0m, in \u001b[0;36m<listcomp>\u001b[1;34m(.0)\u001b[0m\n\u001b[0;32m      1\u001b[0m \u001b[39mdef\u001b[39;00m \u001b[39mget_urls\u001b[39m(tag, n, language):\n\u001b[1;32m----> 2\u001b[0m     urls \u001b[39m=\u001b[39m [url \u001b[39mfor\u001b[39;00m url \u001b[39min\u001b[39;00m search(tag, num_results\u001b[39m=\u001b[39mn, lang\u001b[39m=\u001b[39mlanguage)][:n]\n\u001b[0;32m      3\u001b[0m     \u001b[39mreturn\u001b[39;00m urls\n",
      "File \u001b[1;32m~\\AppData\\Local\\Packages\\PythonSoftwareFoundation.Python.3.10_qbz5n2kfra8p0\\LocalCache\\local-packages\\Python310\\site-packages\\googlesearch\\__init__.py:45\u001b[0m, in \u001b[0;36msearch\u001b[1;34m(term, num_results, lang, proxy, advanced)\u001b[0m\n\u001b[0;32m     42\u001b[0m start \u001b[39m=\u001b[39m \u001b[39m0\u001b[39m\n\u001b[0;32m     43\u001b[0m \u001b[39mwhile\u001b[39;00m start \u001b[39m<\u001b[39m num_results:\n\u001b[0;32m     44\u001b[0m     \u001b[39m# Send request\u001b[39;00m\n\u001b[1;32m---> 45\u001b[0m     resp \u001b[39m=\u001b[39m _req(escaped_term, num_results\u001b[39m-\u001b[39;49mstart, lang, start, proxies)\n\u001b[0;32m     47\u001b[0m     \u001b[39m# Parse\u001b[39;00m\n\u001b[0;32m     48\u001b[0m     soup \u001b[39m=\u001b[39m BeautifulSoup(resp\u001b[39m.\u001b[39mtext, \u001b[39m'\u001b[39m\u001b[39mhtml.parser\u001b[39m\u001b[39m'\u001b[39m)\n",
      "File \u001b[1;32m~\\AppData\\Local\\Packages\\PythonSoftwareFoundation.Python.3.10_qbz5n2kfra8p0\\LocalCache\\local-packages\\Python310\\site-packages\\googlesearch\\__init__.py:18\u001b[0m, in \u001b[0;36m_req\u001b[1;34m(term, results, lang, start, proxies)\u001b[0m\n\u001b[0;32m      6\u001b[0m \u001b[39mdef\u001b[39;00m \u001b[39m_req\u001b[39m(term, results, lang, start, proxies):\n\u001b[0;32m      7\u001b[0m     resp \u001b[39m=\u001b[39m get(\n\u001b[0;32m      8\u001b[0m         url\u001b[39m=\u001b[39m\u001b[39m\"\u001b[39m\u001b[39mhttps://www.google.com/search\u001b[39m\u001b[39m\"\u001b[39m,\n\u001b[0;32m      9\u001b[0m         headers\u001b[39m=\u001b[39musr_agent,\n\u001b[1;32m   (...)\u001b[0m\n\u001b[0;32m     16\u001b[0m         proxies\u001b[39m=\u001b[39mproxies,\n\u001b[0;32m     17\u001b[0m     )\n\u001b[1;32m---> 18\u001b[0m     resp\u001b[39m.\u001b[39;49mraise_for_status()\n\u001b[0;32m     19\u001b[0m     \u001b[39mreturn\u001b[39;00m resp\n",
      "File \u001b[1;32m~\\AppData\\Local\\Packages\\PythonSoftwareFoundation.Python.3.10_qbz5n2kfra8p0\\LocalCache\\local-packages\\Python310\\site-packages\\requests\\models.py:943\u001b[0m, in \u001b[0;36mResponse.raise_for_status\u001b[1;34m(self)\u001b[0m\n\u001b[0;32m    940\u001b[0m     http_error_msg \u001b[39m=\u001b[39m \u001b[39mu\u001b[39m\u001b[39m'\u001b[39m\u001b[39m%s\u001b[39;00m\u001b[39m Server Error: \u001b[39m\u001b[39m%s\u001b[39;00m\u001b[39m for url: \u001b[39m\u001b[39m%s\u001b[39;00m\u001b[39m'\u001b[39m \u001b[39m%\u001b[39m (\u001b[39mself\u001b[39m\u001b[39m.\u001b[39mstatus_code, reason, \u001b[39mself\u001b[39m\u001b[39m.\u001b[39murl)\n\u001b[0;32m    942\u001b[0m \u001b[39mif\u001b[39;00m http_error_msg:\n\u001b[1;32m--> 943\u001b[0m     \u001b[39mraise\u001b[39;00m HTTPError(http_error_msg, response\u001b[39m=\u001b[39m\u001b[39mself\u001b[39m)\n",
      "\u001b[1;31mHTTPError\u001b[0m: 429 Client Error: Too Many Requests for url: https://www.google.com/sorry/index?continue=https://www.google.com/search%3Fq%3Dmastering%252Bstudio%252Blondon%26num%3D150%26hl%3Dpt%26start%3D152&hl=pt&q=EgRDtLUeGN_p-ZsGIjDbc1HPbCO-g5ty6diTETG8ravcuXNe1bXdN0T03VQos_b__Bb1xEkaTx90sjj60PAyAXI"
     ]
    }
   ],
   "source": [
    "bad_words = ['facebook', 'instagram', 'youtube', 'twitter', 'wiki']\n",
    "df = get_info('mastering studio london', 5, 'pt', 'studios.csv', reject=bad_words)"
   ]
  },
  {
   "cell_type": "code",
   "execution_count": null,
   "metadata": {},
   "outputs": [],
   "source": [
    "df.head()"
   ]
  }
 ],
 "metadata": {
  "kernelspec": {
   "display_name": "Python 3.10.6 64-bit (microsoft store)",
   "language": "python",
   "name": "python3"
  },
  "language_info": {
   "codemirror_mode": {
    "name": "ipython",
    "version": 3
   },
   "file_extension": ".py",
   "mimetype": "text/x-python",
   "name": "python",
   "nbconvert_exporter": "python",
   "pygments_lexer": "ipython3",
   "version": "3.10.6"
  },
  "orig_nbformat": 4,
  "vscode": {
   "interpreter": {
    "hash": "7a9c16435e8e18b963d2b2ed856045e83ee065cb480e373d53542704e1e3736c"
   }
  }
 },
 "nbformat": 4,
 "nbformat_minor": 2
}
