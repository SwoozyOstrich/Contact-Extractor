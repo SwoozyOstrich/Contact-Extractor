{
 "cells": [
  {
   "cell_type": "code",
   "execution_count": 6,
   "metadata": {},
   "outputs": [],
   "source": [
    "import logging\n",
    "import os\n",
    "import pandas as pd\n",
    "import re\n",
    "import scrapy\n",
    "from scrapy.crawler import CrawlerProcess\n",
    "from scrapy.linkextractors.lxmlhtml import LxmlLinkExtractor\n",
    "from googlesearch import search\n",
    "logging.getLogger('scrapy').propagate = False"
   ]
  },
  {
   "cell_type": "code",
   "execution_count": 7,
   "metadata": {},
   "outputs": [],
   "source": [
    "def get_urls(tag, n, language):\n",
    "    urls = [url for url in search(tag, num_results=n, lang=language)][:n]\n",
    "    return urls"
   ]
  },
  {
   "cell_type": "code",
   "execution_count": 8,
   "metadata": {},
   "outputs": [
    {
     "ename": "TypeError",
     "evalue": "search() got an unexpected keyword argument 'stop'",
     "output_type": "error",
     "traceback": [
      "\u001b[1;31m---------------------------------------------------------------------------\u001b[0m",
      "\u001b[1;31mTypeError\u001b[0m                                 Traceback (most recent call last)",
      "Cell \u001b[1;32mIn [8], line 1\u001b[0m\n\u001b[1;32m----> 1\u001b[0m get_urls(\u001b[39m'\u001b[39;49m\u001b[39mmovie rating\u001b[39;49m\u001b[39m'\u001b[39;49m, \u001b[39m5\u001b[39;49m , \u001b[39m'\u001b[39;49m\u001b[39men\u001b[39;49m\u001b[39m'\u001b[39;49m)\n",
      "Cell \u001b[1;32mIn [7], line 2\u001b[0m, in \u001b[0;36mget_urls\u001b[1;34m(tag, n, language)\u001b[0m\n\u001b[0;32m      1\u001b[0m \u001b[39mdef\u001b[39;00m \u001b[39mget_urls\u001b[39m(tag, n, language):\n\u001b[1;32m----> 2\u001b[0m     urls \u001b[39m=\u001b[39m [url \u001b[39mfor\u001b[39;00m url \u001b[39min\u001b[39;00m search(tag, stop\u001b[39m=\u001b[39;49mn, lang\u001b[39m=\u001b[39;49mlanguage)][:n]\n\u001b[0;32m      3\u001b[0m     \u001b[39mreturn\u001b[39;00m urls\n",
      "\u001b[1;31mTypeError\u001b[0m: search() got an unexpected keyword argument 'stop'"
     ]
    }
   ],
   "source": [
    "get_urls('movie rating', 5 , 'en')"
   ]
  }
 ],
 "metadata": {
  "kernelspec": {
   "display_name": "Python 3.10.6 64-bit (microsoft store)",
   "language": "python",
   "name": "python3"
  },
  "language_info": {
   "codemirror_mode": {
    "name": "ipython",
    "version": 3
   },
   "file_extension": ".py",
   "mimetype": "text/x-python",
   "name": "python",
   "nbconvert_exporter": "python",
   "pygments_lexer": "ipython3",
   "version": "3.10.6"
  },
  "orig_nbformat": 4,
  "vscode": {
   "interpreter": {
    "hash": "7a9c16435e8e18b963d2b2ed856045e83ee065cb480e373d53542704e1e3736c"
   }
  }
 },
 "nbformat": 4,
 "nbformat_minor": 2
}
